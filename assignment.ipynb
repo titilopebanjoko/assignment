{
 "cells": [
  {
   "cell_type": "markdown",
   "id": "e50bd33d-8422-4ff9-ad6e-0319b7e629ea",
   "metadata": {},
   "source": [
    "<h1>My Jupyter Notebook on IBM Watson Studio.<h1>"
   ]
  },
  {
   "cell_type": "markdown",
   "id": "04a1838e-4dbf-485e-8c27-62436d5dd72e",
   "metadata": {},
   "source": [
    "**BANJOKO, Titilope Ayodeji**\n",
    "<h5>Data Scientist<h5>"
   ]
  },
  {
   "cell_type": "markdown",
   "id": "f1a9cfe5-9f41-48fe-b8f6-27edeabbc6e8",
   "metadata": {},
   "source": [
    "*I am interested in data science because i love working  on data, maths and \n",
    "it's application to different industries. Moreover, i started my career as a data analyst*"
   ]
  },
  {
   "cell_type": "markdown",
   "id": "1db303f2-89c5-4df1-b1e1-a8828758557b",
   "metadata": {},
   "source": [
    "<h3>I simply want to add 8 to 8.<h3>"
   ]
  },
  {
   "cell_type": "code",
   "execution_count": 3,
   "id": "4a8005a4-de4a-49ca-9437-d0875fe3503f",
   "metadata": {},
   "outputs": [
    {
     "name": "stdout",
     "output_type": "stream",
     "text": [
      "16\n"
     ]
    }
   ],
   "source": [
    "a = 8 + 8\n",
    "print (a)"
   ]
  },
  {
   "cell_type": "markdown",
   "id": "7b5df7d0-af95-4f93-bb86-a2db60548175",
   "metadata": {},
   "source": [
    "- France is in Europe\n",
    "    - Paris is in France"
   ]
  },
  {
   "cell_type": "markdown",
   "id": "b6a8131c-3522-44b2-ad7e-d25d58c12234",
   "metadata": {},
   "source": [
    "1. London is the capital of England\n",
    "2. Abuja is the capital of Nigeria"
   ]
  },
  {
   "cell_type": "markdown",
   "id": "965082dc-4e64-4cbb-aaff-42e1558fd37e",
   "metadata": {},
   "source": [
    "<div class= \"alert alert-block alert-info\">\n",
    "<h4>from sklearn.cluster import KMeans\n",
    "kmeans = KMeans(4, random_state=8)\n",
    "Y_hat = kmeans.fit(X).labels_</h4>\n",
    "</div>"
   ]
  },
  {
   "cell_type": "code",
   "execution_count": null,
   "id": "08796543-b15c-445d-b099-ff50555e8640",
   "metadata": {},
   "outputs": [],
   "source": []
  }
 ],
 "metadata": {
  "kernelspec": {
   "display_name": "Python",
   "language": "python",
   "name": "conda-env-python-py"
  },
  "language_info": {
   "codemirror_mode": {
    "name": "ipython",
    "version": 3
   },
   "file_extension": ".py",
   "mimetype": "text/x-python",
   "name": "python",
   "nbconvert_exporter": "python",
   "pygments_lexer": "ipython3",
   "version": "3.7.12"
  }
 },
 "nbformat": 4,
 "nbformat_minor": 5
}
